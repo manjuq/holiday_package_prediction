{
 "cells": [
  {
   "cell_type": "code",
   "execution_count": 85,
   "metadata": {},
   "outputs": [],
   "source": [
    "import numpy as np\n",
    "import pandas as pd\n",
    "import matplotlib.pyplot as plt\n",
    "import warnings\n",
    "\n",
    "warnings.filterwarnings(\"ignore\")"
   ]
  },
  {
   "cell_type": "code",
   "execution_count": 86,
   "metadata": {},
   "outputs": [
    {
     "data": {
      "text/html": [
       "<div>\n",
       "<style scoped>\n",
       "    .dataframe tbody tr th:only-of-type {\n",
       "        vertical-align: middle;\n",
       "    }\n",
       "\n",
       "    .dataframe tbody tr th {\n",
       "        vertical-align: top;\n",
       "    }\n",
       "\n",
       "    .dataframe thead th {\n",
       "        text-align: right;\n",
       "    }\n",
       "</style>\n",
       "<table border=\"1\" class=\"dataframe\">\n",
       "  <thead>\n",
       "    <tr style=\"text-align: right;\">\n",
       "      <th></th>\n",
       "      <th>CustomerID</th>\n",
       "      <th>ProdTaken</th>\n",
       "      <th>Age</th>\n",
       "      <th>TypeofContact</th>\n",
       "      <th>CityTier</th>\n",
       "      <th>DurationOfPitch</th>\n",
       "      <th>Occupation</th>\n",
       "      <th>Gender</th>\n",
       "      <th>NumberOfPersonVisiting</th>\n",
       "      <th>NumberOfFollowups</th>\n",
       "      <th>ProductPitched</th>\n",
       "      <th>PreferredPropertyStar</th>\n",
       "      <th>MaritalStatus</th>\n",
       "      <th>NumberOfTrips</th>\n",
       "      <th>Passport</th>\n",
       "      <th>PitchSatisfactionScore</th>\n",
       "      <th>OwnCar</th>\n",
       "      <th>NumberOfChildrenVisiting</th>\n",
       "      <th>Designation</th>\n",
       "      <th>MonthlyIncome</th>\n",
       "    </tr>\n",
       "  </thead>\n",
       "  <tbody>\n",
       "    <tr>\n",
       "      <th>0</th>\n",
       "      <td>200000</td>\n",
       "      <td>1</td>\n",
       "      <td>41.0</td>\n",
       "      <td>Self Enquiry</td>\n",
       "      <td>3</td>\n",
       "      <td>6.0</td>\n",
       "      <td>Salaried</td>\n",
       "      <td>Female</td>\n",
       "      <td>3</td>\n",
       "      <td>3.0</td>\n",
       "      <td>Deluxe</td>\n",
       "      <td>3.0</td>\n",
       "      <td>Single</td>\n",
       "      <td>1.0</td>\n",
       "      <td>1</td>\n",
       "      <td>2</td>\n",
       "      <td>1</td>\n",
       "      <td>0.0</td>\n",
       "      <td>Manager</td>\n",
       "      <td>20993.0</td>\n",
       "    </tr>\n",
       "    <tr>\n",
       "      <th>1</th>\n",
       "      <td>200001</td>\n",
       "      <td>0</td>\n",
       "      <td>49.0</td>\n",
       "      <td>Company Invited</td>\n",
       "      <td>1</td>\n",
       "      <td>14.0</td>\n",
       "      <td>Salaried</td>\n",
       "      <td>Male</td>\n",
       "      <td>3</td>\n",
       "      <td>4.0</td>\n",
       "      <td>Deluxe</td>\n",
       "      <td>4.0</td>\n",
       "      <td>Divorced</td>\n",
       "      <td>2.0</td>\n",
       "      <td>0</td>\n",
       "      <td>3</td>\n",
       "      <td>1</td>\n",
       "      <td>2.0</td>\n",
       "      <td>Manager</td>\n",
       "      <td>20130.0</td>\n",
       "    </tr>\n",
       "    <tr>\n",
       "      <th>2</th>\n",
       "      <td>200002</td>\n",
       "      <td>1</td>\n",
       "      <td>37.0</td>\n",
       "      <td>Self Enquiry</td>\n",
       "      <td>1</td>\n",
       "      <td>8.0</td>\n",
       "      <td>Free Lancer</td>\n",
       "      <td>Male</td>\n",
       "      <td>3</td>\n",
       "      <td>4.0</td>\n",
       "      <td>Basic</td>\n",
       "      <td>3.0</td>\n",
       "      <td>Single</td>\n",
       "      <td>7.0</td>\n",
       "      <td>1</td>\n",
       "      <td>3</td>\n",
       "      <td>0</td>\n",
       "      <td>0.0</td>\n",
       "      <td>Executive</td>\n",
       "      <td>17090.0</td>\n",
       "    </tr>\n",
       "    <tr>\n",
       "      <th>3</th>\n",
       "      <td>200003</td>\n",
       "      <td>0</td>\n",
       "      <td>33.0</td>\n",
       "      <td>Company Invited</td>\n",
       "      <td>1</td>\n",
       "      <td>9.0</td>\n",
       "      <td>Salaried</td>\n",
       "      <td>Female</td>\n",
       "      <td>2</td>\n",
       "      <td>3.0</td>\n",
       "      <td>Basic</td>\n",
       "      <td>3.0</td>\n",
       "      <td>Divorced</td>\n",
       "      <td>2.0</td>\n",
       "      <td>1</td>\n",
       "      <td>5</td>\n",
       "      <td>1</td>\n",
       "      <td>1.0</td>\n",
       "      <td>Executive</td>\n",
       "      <td>17909.0</td>\n",
       "    </tr>\n",
       "    <tr>\n",
       "      <th>4</th>\n",
       "      <td>200004</td>\n",
       "      <td>0</td>\n",
       "      <td>NaN</td>\n",
       "      <td>Self Enquiry</td>\n",
       "      <td>1</td>\n",
       "      <td>8.0</td>\n",
       "      <td>Small Business</td>\n",
       "      <td>Male</td>\n",
       "      <td>2</td>\n",
       "      <td>3.0</td>\n",
       "      <td>Basic</td>\n",
       "      <td>4.0</td>\n",
       "      <td>Divorced</td>\n",
       "      <td>1.0</td>\n",
       "      <td>0</td>\n",
       "      <td>5</td>\n",
       "      <td>1</td>\n",
       "      <td>0.0</td>\n",
       "      <td>Executive</td>\n",
       "      <td>18468.0</td>\n",
       "    </tr>\n",
       "  </tbody>\n",
       "</table>\n",
       "</div>"
      ],
      "text/plain": [
       "   CustomerID  ProdTaken   Age    TypeofContact  CityTier  DurationOfPitch  \\\n",
       "0      200000          1  41.0     Self Enquiry         3              6.0   \n",
       "1      200001          0  49.0  Company Invited         1             14.0   \n",
       "2      200002          1  37.0     Self Enquiry         1              8.0   \n",
       "3      200003          0  33.0  Company Invited         1              9.0   \n",
       "4      200004          0   NaN     Self Enquiry         1              8.0   \n",
       "\n",
       "       Occupation  Gender  NumberOfPersonVisiting  NumberOfFollowups  \\\n",
       "0        Salaried  Female                       3                3.0   \n",
       "1        Salaried    Male                       3                4.0   \n",
       "2     Free Lancer    Male                       3                4.0   \n",
       "3        Salaried  Female                       2                3.0   \n",
       "4  Small Business    Male                       2                3.0   \n",
       "\n",
       "  ProductPitched  PreferredPropertyStar MaritalStatus  NumberOfTrips  \\\n",
       "0         Deluxe                    3.0        Single            1.0   \n",
       "1         Deluxe                    4.0      Divorced            2.0   \n",
       "2          Basic                    3.0        Single            7.0   \n",
       "3          Basic                    3.0      Divorced            2.0   \n",
       "4          Basic                    4.0      Divorced            1.0   \n",
       "\n",
       "   Passport  PitchSatisfactionScore  OwnCar  NumberOfChildrenVisiting  \\\n",
       "0         1                       2       1                       0.0   \n",
       "1         0                       3       1                       2.0   \n",
       "2         1                       3       0                       0.0   \n",
       "3         1                       5       1                       1.0   \n",
       "4         0                       5       1                       0.0   \n",
       "\n",
       "  Designation  MonthlyIncome  \n",
       "0     Manager        20993.0  \n",
       "1     Manager        20130.0  \n",
       "2   Executive        17090.0  \n",
       "3   Executive        17909.0  \n",
       "4   Executive        18468.0  "
      ]
     },
     "execution_count": 86,
     "metadata": {},
     "output_type": "execute_result"
    }
   ],
   "source": [
    "df = pd.read_csv('Travel.csv')\n",
    "df.head()"
   ]
  },
  {
   "cell_type": "markdown",
   "metadata": {},
   "source": [
    "#### Handle missing values\n",
    "1. Handle Missing values\n",
    "2. Handling Duplicate\n",
    "3. Check data type\n",
    "4. Understand the dataset"
   ]
  },
  {
   "cell_type": "code",
   "execution_count": 87,
   "metadata": {},
   "outputs": [
    {
     "data": {
      "text/plain": [
       "CustomerID                    0\n",
       "ProdTaken                     0\n",
       "Age                         226\n",
       "TypeofContact                25\n",
       "CityTier                      0\n",
       "DurationOfPitch             251\n",
       "Occupation                    0\n",
       "Gender                        0\n",
       "NumberOfPersonVisiting        0\n",
       "NumberOfFollowups            45\n",
       "ProductPitched                0\n",
       "PreferredPropertyStar        26\n",
       "MaritalStatus                 0\n",
       "NumberOfTrips               140\n",
       "Passport                      0\n",
       "PitchSatisfactionScore        0\n",
       "OwnCar                        0\n",
       "NumberOfChildrenVisiting     66\n",
       "Designation                   0\n",
       "MonthlyIncome               233\n",
       "dtype: int64"
      ]
     },
     "execution_count": 87,
     "metadata": {},
     "output_type": "execute_result"
    }
   ],
   "source": [
    "df.isnull().sum()"
   ]
  },
  {
   "cell_type": "code",
   "execution_count": 88,
   "metadata": {},
   "outputs": [
    {
     "name": "stdout",
     "output_type": "stream",
     "text": [
      "<class 'pandas.core.frame.DataFrame'>\n",
      "RangeIndex: 4888 entries, 0 to 4887\n",
      "Data columns (total 20 columns):\n",
      " #   Column                    Non-Null Count  Dtype  \n",
      "---  ------                    --------------  -----  \n",
      " 0   CustomerID                4888 non-null   int64  \n",
      " 1   ProdTaken                 4888 non-null   int64  \n",
      " 2   Age                       4662 non-null   float64\n",
      " 3   TypeofContact             4863 non-null   object \n",
      " 4   CityTier                  4888 non-null   int64  \n",
      " 5   DurationOfPitch           4637 non-null   float64\n",
      " 6   Occupation                4888 non-null   object \n",
      " 7   Gender                    4888 non-null   object \n",
      " 8   NumberOfPersonVisiting    4888 non-null   int64  \n",
      " 9   NumberOfFollowups         4843 non-null   float64\n",
      " 10  ProductPitched            4888 non-null   object \n",
      " 11  PreferredPropertyStar     4862 non-null   float64\n",
      " 12  MaritalStatus             4888 non-null   object \n",
      " 13  NumberOfTrips             4748 non-null   float64\n",
      " 14  Passport                  4888 non-null   int64  \n",
      " 15  PitchSatisfactionScore    4888 non-null   int64  \n",
      " 16  OwnCar                    4888 non-null   int64  \n",
      " 17  NumberOfChildrenVisiting  4822 non-null   float64\n",
      " 18  Designation               4888 non-null   object \n",
      " 19  MonthlyIncome             4655 non-null   float64\n",
      "dtypes: float64(7), int64(7), object(6)\n",
      "memory usage: 763.9+ KB\n"
     ]
    }
   ],
   "source": [
    "df.info()"
   ]
  },
  {
   "cell_type": "code",
   "execution_count": 89,
   "metadata": {},
   "outputs": [
    {
     "data": {
      "text/plain": [
       "TypeofContact\n",
       "Self Enquiry       3444\n",
       "Company Invited    1419\n",
       "Name: count, dtype: int64"
      ]
     },
     "execution_count": 89,
     "metadata": {},
     "output_type": "execute_result"
    }
   ],
   "source": [
    "df['TypeofContact'].value_counts()"
   ]
  },
  {
   "cell_type": "code",
   "execution_count": 90,
   "metadata": {},
   "outputs": [
    {
     "data": {
      "text/plain": [
       "Gender\n",
       "Male       2916\n",
       "Female     1817\n",
       "Fe Male     155\n",
       "Name: count, dtype: int64"
      ]
     },
     "execution_count": 90,
     "metadata": {},
     "output_type": "execute_result"
    }
   ],
   "source": [
    "df['Gender'].value_counts()"
   ]
  },
  {
   "cell_type": "code",
   "execution_count": 91,
   "metadata": {},
   "outputs": [
    {
     "data": {
      "text/plain": [
       "ProductPitched\n",
       "Basic           1842\n",
       "Deluxe          1732\n",
       "Standard         742\n",
       "Super Deluxe     342\n",
       "King             230\n",
       "Name: count, dtype: int64"
      ]
     },
     "execution_count": 91,
     "metadata": {},
     "output_type": "execute_result"
    }
   ],
   "source": [
    "df['ProductPitched'].value_counts()"
   ]
  },
  {
   "cell_type": "code",
   "execution_count": 92,
   "metadata": {},
   "outputs": [
    {
     "data": {
      "text/plain": [
       "MaritalStatus\n",
       "Married      2340\n",
       "Divorced      950\n",
       "Single        916\n",
       "Unmarried     682\n",
       "Name: count, dtype: int64"
      ]
     },
     "execution_count": 92,
     "metadata": {},
     "output_type": "execute_result"
    }
   ],
   "source": [
    "df['MaritalStatus'].value_counts()"
   ]
  },
  {
   "cell_type": "code",
   "execution_count": 93,
   "metadata": {},
   "outputs": [
    {
     "data": {
      "text/plain": [
       "MaritalStatus\n",
       "Married      2340\n",
       "Unmarried    1598\n",
       "Divorced      950\n",
       "Name: count, dtype: int64"
      ]
     },
     "execution_count": 93,
     "metadata": {},
     "output_type": "execute_result"
    }
   ],
   "source": [
    "df['Gender'] = df['Gender'].replace('Fe Male', 'Female')\n",
    "df['MaritalStatus'] = df['MaritalStatus'].replace('Single', 'Unmarried')\n",
    "\n",
    "df['MaritalStatus'].value_counts()"
   ]
  },
  {
   "cell_type": "code",
   "execution_count": 94,
   "metadata": {},
   "outputs": [
    {
     "name": "stdout",
     "output_type": "stream",
     "text": [
      "Age 4.62357 missing values\n",
      "TypeofContact 0.51146 missing values\n",
      "DurationOfPitch 5.13502 missing values\n",
      "NumberOfFollowups 0.92062 missing values\n",
      "PreferredPropertyStar 0.53191 missing values\n",
      "NumberOfTrips 2.86416 missing values\n",
      "NumberOfChildrenVisiting 1.35025 missing values\n",
      "MonthlyIncome 4.76678 missing values\n"
     ]
    }
   ],
   "source": [
    "#Check missing values \n",
    "features_with_na = [feature for feature in df.columns if df[feature].isnull().sum() != 0]\n",
    "for feature in features_with_na:\n",
    "    print(feature, np.round(df[feature].isnull().mean()*100,5), 'missing values')"
   ]
  },
  {
   "cell_type": "code",
   "execution_count": 95,
   "metadata": {},
   "outputs": [
    {
     "data": {
      "text/html": [
       "<div>\n",
       "<style scoped>\n",
       "    .dataframe tbody tr th:only-of-type {\n",
       "        vertical-align: middle;\n",
       "    }\n",
       "\n",
       "    .dataframe tbody tr th {\n",
       "        vertical-align: top;\n",
       "    }\n",
       "\n",
       "    .dataframe thead th {\n",
       "        text-align: right;\n",
       "    }\n",
       "</style>\n",
       "<table border=\"1\" class=\"dataframe\">\n",
       "  <thead>\n",
       "    <tr style=\"text-align: right;\">\n",
       "      <th></th>\n",
       "      <th>Age</th>\n",
       "      <th>DurationOfPitch</th>\n",
       "      <th>NumberOfFollowups</th>\n",
       "      <th>PreferredPropertyStar</th>\n",
       "      <th>NumberOfTrips</th>\n",
       "      <th>NumberOfChildrenVisiting</th>\n",
       "      <th>MonthlyIncome</th>\n",
       "    </tr>\n",
       "  </thead>\n",
       "  <tbody>\n",
       "    <tr>\n",
       "      <th>count</th>\n",
       "      <td>4662.000000</td>\n",
       "      <td>4637.000000</td>\n",
       "      <td>4843.000000</td>\n",
       "      <td>4862.000000</td>\n",
       "      <td>4748.000000</td>\n",
       "      <td>4822.000000</td>\n",
       "      <td>4655.000000</td>\n",
       "    </tr>\n",
       "    <tr>\n",
       "      <th>mean</th>\n",
       "      <td>37.622265</td>\n",
       "      <td>15.490835</td>\n",
       "      <td>3.708445</td>\n",
       "      <td>3.581037</td>\n",
       "      <td>3.236521</td>\n",
       "      <td>1.187267</td>\n",
       "      <td>23619.853491</td>\n",
       "    </tr>\n",
       "    <tr>\n",
       "      <th>std</th>\n",
       "      <td>9.316387</td>\n",
       "      <td>8.519643</td>\n",
       "      <td>1.002509</td>\n",
       "      <td>0.798009</td>\n",
       "      <td>1.849019</td>\n",
       "      <td>0.857861</td>\n",
       "      <td>5380.698361</td>\n",
       "    </tr>\n",
       "    <tr>\n",
       "      <th>min</th>\n",
       "      <td>18.000000</td>\n",
       "      <td>5.000000</td>\n",
       "      <td>1.000000</td>\n",
       "      <td>3.000000</td>\n",
       "      <td>1.000000</td>\n",
       "      <td>0.000000</td>\n",
       "      <td>1000.000000</td>\n",
       "    </tr>\n",
       "    <tr>\n",
       "      <th>25%</th>\n",
       "      <td>31.000000</td>\n",
       "      <td>9.000000</td>\n",
       "      <td>3.000000</td>\n",
       "      <td>3.000000</td>\n",
       "      <td>2.000000</td>\n",
       "      <td>1.000000</td>\n",
       "      <td>20346.000000</td>\n",
       "    </tr>\n",
       "    <tr>\n",
       "      <th>50%</th>\n",
       "      <td>36.000000</td>\n",
       "      <td>13.000000</td>\n",
       "      <td>4.000000</td>\n",
       "      <td>3.000000</td>\n",
       "      <td>3.000000</td>\n",
       "      <td>1.000000</td>\n",
       "      <td>22347.000000</td>\n",
       "    </tr>\n",
       "    <tr>\n",
       "      <th>75%</th>\n",
       "      <td>44.000000</td>\n",
       "      <td>20.000000</td>\n",
       "      <td>4.000000</td>\n",
       "      <td>4.000000</td>\n",
       "      <td>4.000000</td>\n",
       "      <td>2.000000</td>\n",
       "      <td>25571.000000</td>\n",
       "    </tr>\n",
       "    <tr>\n",
       "      <th>max</th>\n",
       "      <td>61.000000</td>\n",
       "      <td>127.000000</td>\n",
       "      <td>6.000000</td>\n",
       "      <td>5.000000</td>\n",
       "      <td>22.000000</td>\n",
       "      <td>3.000000</td>\n",
       "      <td>98678.000000</td>\n",
       "    </tr>\n",
       "  </tbody>\n",
       "</table>\n",
       "</div>"
      ],
      "text/plain": [
       "               Age  DurationOfPitch  NumberOfFollowups  PreferredPropertyStar  \\\n",
       "count  4662.000000      4637.000000        4843.000000            4862.000000   \n",
       "mean     37.622265        15.490835           3.708445               3.581037   \n",
       "std       9.316387         8.519643           1.002509               0.798009   \n",
       "min      18.000000         5.000000           1.000000               3.000000   \n",
       "25%      31.000000         9.000000           3.000000               3.000000   \n",
       "50%      36.000000        13.000000           4.000000               3.000000   \n",
       "75%      44.000000        20.000000           4.000000               4.000000   \n",
       "max      61.000000       127.000000           6.000000               5.000000   \n",
       "\n",
       "       NumberOfTrips  NumberOfChildrenVisiting  MonthlyIncome  \n",
       "count    4748.000000               4822.000000    4655.000000  \n",
       "mean        3.236521                  1.187267   23619.853491  \n",
       "std         1.849019                  0.857861    5380.698361  \n",
       "min         1.000000                  0.000000    1000.000000  \n",
       "25%         2.000000                  1.000000   20346.000000  \n",
       "50%         3.000000                  1.000000   22347.000000  \n",
       "75%         4.000000                  2.000000   25571.000000  \n",
       "max        22.000000                  3.000000   98678.000000  "
      ]
     },
     "execution_count": 95,
     "metadata": {},
     "output_type": "execute_result"
    }
   ],
   "source": [
    "df[features_with_na].select_dtypes(exclude='object').describe()"
   ]
  },
  {
   "cell_type": "code",
   "execution_count": 96,
   "metadata": {},
   "outputs": [
    {
     "data": {
      "text/plain": [
       "PreferredPropertyStar\n",
       "3.0    2993\n",
       "5.0     956\n",
       "4.0     913\n",
       "Name: count, dtype: int64"
      ]
     },
     "execution_count": 96,
     "metadata": {},
     "output_type": "execute_result"
    }
   ],
   "source": [
    "df['PreferredPropertyStar'].value_counts()\n"
   ]
  },
  {
   "cell_type": "code",
   "execution_count": 97,
   "metadata": {},
   "outputs": [],
   "source": [
    "#Replace null values with mode for categorical feature and ordinal feature \n",
    "df.TypeofContact.fillna(df.TypeofContact.mode()[0], inplace=True)\n",
    "df.NumberOfFollowups.fillna(df.NumberOfFollowups.mode()[0], inplace=True)\n",
    "df.PreferredPropertyStar.fillna(df.PreferredPropertyStar.mode()[0], inplace=True)\n",
    "df.NumberOfChildrenVisiting.fillna(df.NumberOfChildrenVisiting.mode()[0], inplace=True)\n",
    "\n",
    "#Replace null values with median for continuous feature\n",
    "df.Age.fillna(df.Age.median(), inplace=True)\n",
    "df.DurationOfPitch.fillna(df.DurationOfPitch.median(), inplace=True)\n",
    "df.NumberOfTrips.fillna(df.NumberOfTrips.median(), inplace=True)\n",
    "df.MonthlyIncome.fillna(df.MonthlyIncome.median(), inplace=True)\n"
   ]
  },
  {
   "cell_type": "code",
   "execution_count": 98,
   "metadata": {},
   "outputs": [
    {
     "data": {
      "text/plain": [
       "CustomerID                  0\n",
       "ProdTaken                   0\n",
       "Age                         0\n",
       "TypeofContact               0\n",
       "CityTier                    0\n",
       "DurationOfPitch             0\n",
       "Occupation                  0\n",
       "Gender                      0\n",
       "NumberOfPersonVisiting      0\n",
       "NumberOfFollowups           0\n",
       "ProductPitched              0\n",
       "PreferredPropertyStar       0\n",
       "MaritalStatus               0\n",
       "NumberOfTrips               0\n",
       "Passport                    0\n",
       "PitchSatisfactionScore      0\n",
       "OwnCar                      0\n",
       "NumberOfChildrenVisiting    0\n",
       "Designation                 0\n",
       "MonthlyIncome               0\n",
       "dtype: int64"
      ]
     },
     "execution_count": 98,
     "metadata": {},
     "output_type": "execute_result"
    }
   ],
   "source": [
    "df.isnull().sum()"
   ]
  },
  {
   "cell_type": "code",
   "execution_count": 99,
   "metadata": {},
   "outputs": [],
   "source": [
    "df.drop('CustomerID', inplace=True, axis=1)"
   ]
  },
  {
   "cell_type": "markdown",
   "metadata": {},
   "source": [
    "#### Feature Engineering\n",
    "\n",
    "Feature Extraction"
   ]
  },
  {
   "cell_type": "code",
   "execution_count": 100,
   "metadata": {},
   "outputs": [],
   "source": [
    "df['TotalVisiting'] = df['NumberOfChildrenVisiting'] + df['NumberOfPersonVisiting']\n",
    "df.drop(columns=['NumberOfChildrenVisiting', 'NumberOfPersonVisiting'], axis=1, inplace=True)"
   ]
  },
  {
   "cell_type": "code",
   "execution_count": 101,
   "metadata": {},
   "outputs": [
    {
     "data": {
      "text/plain": [
       "(['ProdTaken',\n",
       "  'Age',\n",
       "  'CityTier',\n",
       "  'DurationOfPitch',\n",
       "  'NumberOfFollowups',\n",
       "  'PreferredPropertyStar',\n",
       "  'NumberOfTrips',\n",
       "  'Passport',\n",
       "  'PitchSatisfactionScore',\n",
       "  'OwnCar',\n",
       "  'MonthlyIncome',\n",
       "  'TotalVisiting'],\n",
       " ['TypeofContact',\n",
       "  'Occupation',\n",
       "  'Gender',\n",
       "  'ProductPitched',\n",
       "  'MaritalStatus',\n",
       "  'Designation'])"
      ]
     },
     "execution_count": 101,
     "metadata": {},
     "output_type": "execute_result"
    }
   ],
   "source": [
    "#numerical features\n",
    "num_features = [feature for feature in df.columns if df[feature].dtype != 'O']\n",
    "\n",
    "#categorical features\n",
    "cat_features = [feature for feature in df.columns if df[feature].dtype == 'O']\n",
    "num_features, cat_features"
   ]
  },
  {
   "cell_type": "code",
   "execution_count": 102,
   "metadata": {},
   "outputs": [
    {
     "data": {
      "text/plain": [
       "['ProdTaken',\n",
       " 'CityTier',\n",
       " 'NumberOfFollowups',\n",
       " 'PreferredPropertyStar',\n",
       " 'NumberOfTrips',\n",
       " 'Passport',\n",
       " 'PitchSatisfactionScore',\n",
       " 'OwnCar',\n",
       " 'TotalVisiting']"
      ]
     },
     "execution_count": 102,
     "metadata": {},
     "output_type": "execute_result"
    }
   ],
   "source": [
    "#discrete features\n",
    "discrete_features = [feature for feature in num_features if len(df[feature].unique()) <= 25]\n",
    "\n",
    "#continuous features\n",
    "continuous_features = [feature for feature in num_features if feature not in discrete_features]\n",
    "\n",
    "discrete_features"
   ]
  },
  {
   "cell_type": "markdown",
   "metadata": {},
   "source": [
    "#### Train test split and model training"
   ]
  },
  {
   "cell_type": "code",
   "execution_count": 103,
   "metadata": {},
   "outputs": [],
   "source": [
    "from sklearn.model_selection import train_test_split\n",
    "X = df.drop(['ProdTaken'], axis=1)\n",
    "y = df['ProdTaken']"
   ]
  },
  {
   "cell_type": "code",
   "execution_count": 104,
   "metadata": {},
   "outputs": [
    {
     "data": {
      "text/plain": [
       "((3666, 17), (1222, 17))"
      ]
     },
     "execution_count": 104,
     "metadata": {},
     "output_type": "execute_result"
    }
   ],
   "source": [
    "Xtrain, Xtest, ytrain, ytest = train_test_split(X, y, test_size=0.25, random_state=42)\n",
    "Xtrain.shape, Xtest.shape"
   ]
  },
  {
   "cell_type": "code",
   "execution_count": 105,
   "metadata": {},
   "outputs": [
    {
     "data": {
      "text/plain": [
       "Index(['Age', 'CityTier', 'DurationOfPitch', 'NumberOfFollowups',\n",
       "       'PreferredPropertyStar', 'NumberOfTrips', 'Passport',\n",
       "       'PitchSatisfactionScore', 'OwnCar', 'MonthlyIncome', 'TotalVisiting'],\n",
       "      dtype='object')"
      ]
     },
     "execution_count": 105,
     "metadata": {},
     "output_type": "execute_result"
    }
   ],
   "source": [
    "cat_features = X.select_dtypes(include='object').columns\n",
    "num_features = X.select_dtypes(exclude='object').columns\n",
    "num_features"
   ]
  },
  {
   "cell_type": "code",
   "execution_count": 106,
   "metadata": {},
   "outputs": [],
   "source": [
    "from sklearn.compose import ColumnTransformer\n",
    "from sklearn.preprocessing import  OneHotEncoder, StandardScaler\n",
    "\n",
    "ct = ColumnTransformer(\n",
    "    transformers=[\n",
    "        ('num', StandardScaler(), num_features),\n",
    "        ('cat', OneHotEncoder(drop='first'), cat_features)\n",
    "    ]\n",
    ")\n",
    "\n",
    "#Fit and transform the train data\n",
    "Xtrain = ct.fit_transform(Xtrain)\n",
    "\n",
    "#Transform the train data\n",
    "Xtest = ct.transform(Xtest)"
   ]
  },
  {
   "cell_type": "code",
   "execution_count": 107,
   "metadata": {},
   "outputs": [
    {
     "data": {
      "text/plain": [
       "(3666, 26)"
      ]
     },
     "execution_count": 107,
     "metadata": {},
     "output_type": "execute_result"
    }
   ],
   "source": [
    "Xtrain.shape"
   ]
  },
  {
   "cell_type": "code",
   "execution_count": 108,
   "metadata": {},
   "outputs": [
    {
     "name": "stdout",
     "output_type": "stream",
     "text": [
      "LogisticRegression\n",
      "Training Set Performance:\n",
      "Accuracy: 0.8432\n",
      "Precision: 0.7061\n",
      "Recall: 0.2999\n",
      "F1 Score: 0.8164\n",
      "ROC AUC Score: 0.6353\n",
      "\n",
      "\n",
      "Test Set Performance:\n",
      "Accuracy: 0.8445\n",
      "Precision: 0.6571\n",
      "Recall: 0.3094\n",
      "F1 Score: 0.8209\n",
      "ROC AUC Score: 0.6367\n",
      "===================================\n",
      "Decision Tree\n",
      "Training Set Performance:\n",
      "Accuracy: 1.0000\n",
      "Precision: 1.0000\n",
      "Recall: 1.0000\n",
      "F1 Score: 1.0000\n",
      "ROC AUC Score: 1.0000\n",
      "\n",
      "\n",
      "Test Set Performance:\n",
      "Accuracy: 0.9173\n",
      "Precision: 0.7629\n",
      "Recall: 0.7937\n",
      "F1 Score: 0.9180\n",
      "ROC AUC Score: 0.8693\n",
      "===================================\n",
      "Random Forest\n",
      "Training Set Performance:\n",
      "Accuracy: 1.0000\n",
      "Precision: 1.0000\n",
      "Recall: 1.0000\n",
      "F1 Score: 1.0000\n",
      "ROC AUC Score: 1.0000\n",
      "\n",
      "\n",
      "Test Set Performance:\n",
      "Accuracy: 0.9280\n",
      "Precision: 0.9655\n",
      "Recall: 0.6278\n",
      "F1 Score: 0.9217\n",
      "ROC AUC Score: 0.8114\n",
      "===================================\n",
      "Adaboost\n",
      "Training Set Performance:\n",
      "Accuracy: 0.8524\n",
      "Precision: 0.7281\n",
      "Recall: 0.3572\n",
      "F1 Score: 0.8314\n",
      "ROC AUC Score: 0.6630\n",
      "\n",
      "\n",
      "Test Set Performance:\n",
      "Accuracy: 0.8494\n",
      "Precision: 0.6726\n",
      "Recall: 0.3408\n",
      "F1 Score: 0.8287\n",
      "ROC AUC Score: 0.6519\n",
      "===================================\n"
     ]
    }
   ],
   "source": [
    "from sklearn.ensemble import RandomForestClassifier\n",
    "from sklearn.ensemble import AdaBoostClassifier\n",
    "from sklearn.tree import DecisionTreeClassifier\n",
    "from sklearn.linear_model  import LogisticRegression\n",
    "from sklearn.metrics import accuracy_score, classification_report, confusion_matrix, precision_score, recall_score, f1_score, roc_auc_score\n",
    "\n",
    "models = {\n",
    "    'LogisticRegression': LogisticRegression(),\n",
    "    'Decision Tree': DecisionTreeClassifier(),\n",
    "    'Random Forest': RandomForestClassifier(),\n",
    "    'Adaboost': AdaBoostClassifier()\n",
    "}\n",
    "\n",
    "for i in range(len(list(models))):\n",
    "    model = list(models.values())[i]\n",
    "    model.fit(Xtrain, ytrain)\n",
    "\n",
    "    #Make predictions\n",
    "    ytrain_pred = model.predict(Xtrain)\n",
    "    ytest_pred = model.predict(Xtest)\n",
    "\n",
    "    #Training set performance\n",
    "    train_accuracy = accuracy_score(ytrain, ytrain_pred)\n",
    "    train_precision = precision_score(ytrain, ytrain_pred)\n",
    "    train_recall = recall_score(ytrain, ytrain_pred)\n",
    "    train_f1 = f1_score(ytrain, ytrain_pred, average='weighted')\n",
    "    train_roc_auc_score = roc_auc_score(ytrain, ytrain_pred)\n",
    "\n",
    "    #Test set performance\n",
    "    test_accuracy = accuracy_score(ytest, ytest_pred)\n",
    "    test_precision = precision_score(ytest, ytest_pred)\n",
    "    test_recall = recall_score(ytest, ytest_pred)\n",
    "    test_f1 = f1_score(ytest, ytest_pred, average='weighted')\n",
    "    test_roc_auc_score = roc_auc_score(ytest, ytest_pred)\n",
    "\n",
    "    print(list(models.keys())[i])\n",
    "    # Training set performance\n",
    "    print(\"Training Set Performance:\")\n",
    "    print(f\"Accuracy: {train_accuracy:.4f}\")\n",
    "    print(f\"Precision: {train_precision:.4f}\")\n",
    "    print(f\"Recall: {train_recall:.4f}\")\n",
    "    print(f\"F1 Score: {train_f1:.4f}\")\n",
    "    print(f\"ROC AUC Score: {train_roc_auc_score:.4f}\")\n",
    "    print(\"\\n\")  \n",
    "    # Test set performance\n",
    "    print(\"Test Set Performance:\")\n",
    "    print(f\"Accuracy: {test_accuracy:.4f}\")\n",
    "    print(f\"Precision: {test_precision:.4f}\")\n",
    "    print(f\"Recall: {test_recall:.4f}\")\n",
    "    print(f\"F1 Score: {test_f1:.4f}\")\n",
    "    print(f\"ROC AUC Score: {test_roc_auc_score:.4f}\")\n",
    "\n",
    "    print('='*35)\n",
    "\n"
   ]
  },
  {
   "cell_type": "code",
   "execution_count": 109,
   "metadata": {},
   "outputs": [
    {
     "data": {
      "text/plain": [
       "{'n_estimators': [50, 60, 70, 80, 90], 'algorithm': ['SAMME', 'SAMME.R']}"
      ]
     },
     "execution_count": 109,
     "metadata": {},
     "output_type": "execute_result"
    }
   ],
   "source": [
    "#Hyperparameter tuning\n",
    "rf_params = {'max_depth': [5,8,15,None, 10],\n",
    "             'max_features': [5,7,'auto', 8],\n",
    "             'min_samples_split': [2,8,15,20],\n",
    "             'n_estimators': [100,200,500,1000]}\n",
    "adaboost_params = {'n_estimators': [50,60,70,80,90],\n",
    "                   'algorithm':['SAMME', 'SAMME.R']\n",
    "                   }\n",
    "adaboost_params"
   ]
  },
  {
   "cell_type": "code",
   "execution_count": 110,
   "metadata": {},
   "outputs": [
    {
     "data": {
      "text/plain": [
       "[('RF',\n",
       "  RandomForestClassifier(),\n",
       "  {'max_depth': [5, 8, 15, None, 10],\n",
       "   'max_features': [5, 7, 'auto', 8],\n",
       "   'min_samples_split': [2, 8, 15, 20],\n",
       "   'n_estimators': [100, 200, 500, 1000]}),\n",
       " ('AB',\n",
       "  AdaBoostClassifier(),\n",
       "  {'n_estimators': [50, 60, 70, 80, 90], 'algorithm': ['SAMME', 'SAMME.R']})]"
      ]
     },
     "execution_count": 110,
     "metadata": {},
     "output_type": "execute_result"
    }
   ],
   "source": [
    "#Models list for hyperparameter tuning\n",
    "randomcv_models = [('RF', RandomForestClassifier(), rf_params),\n",
    "                   ('AB', AdaBoostClassifier(), adaboost_params)]\n",
    "randomcv_models"
   ]
  },
  {
   "cell_type": "code",
   "execution_count": 111,
   "metadata": {},
   "outputs": [
    {
     "name": "stdout",
     "output_type": "stream",
     "text": [
      "Fitting 3 folds for each of 100 candidates, totalling 300 fits\n"
     ]
    },
    {
     "name": "stdout",
     "output_type": "stream",
     "text": [
      "[CV] END max_depth=5, max_features=auto, min_samples_split=8, n_estimators=200; total time=   0.0s\n",
      "[CV] END max_depth=5, max_features=5, min_samples_split=8, n_estimators=100; total time=   1.5s\n",
      "[CV] END max_depth=5, max_features=auto, min_samples_split=8, n_estimators=200; total time=   0.0s\n",
      "[CV] END max_depth=5, max_features=auto, min_samples_split=8, n_estimators=200; total time=   0.0s\n",
      "[CV] END max_depth=5, max_features=5, min_samples_split=8, n_estimators=100; total time=   1.0s\n",
      "[CV] END max_depth=5, max_features=5, min_samples_split=8, n_estimators=100; total time=   0.9s\n",
      "[CV] END max_depth=15, max_features=auto, min_samples_split=20, n_estimators=1000; total time=   0.0s\n",
      "[CV] END max_depth=15, max_features=auto, min_samples_split=20, n_estimators=1000; total time=   0.0s\n",
      "[CV] END max_depth=None, max_features=7, min_samples_split=15, n_estimators=100; total time=   1.1s\n",
      "[CV] END max_depth=15, max_features=auto, min_samples_split=20, n_estimators=1000; total time=   0.0s\n",
      "[CV] END max_depth=None, max_features=7, min_samples_split=15, n_estimators=100; total time=   1.0s\n",
      "[CV] END max_depth=None, max_features=7, min_samples_split=15, n_estimators=100; total time=   1.4s\n",
      "[CV] END max_depth=15, max_features=auto, min_samples_split=2, n_estimators=500; total time=   0.0s\n",
      "[CV] END max_depth=15, max_features=auto, min_samples_split=2, n_estimators=500; total time=   0.0s\n",
      "[CV] END max_depth=15, max_features=auto, min_samples_split=2, n_estimators=500; total time=   0.0s\n",
      "[CV] END max_depth=15, max_features=5, min_samples_split=2, n_estimators=100; total time=   1.2s\n",
      "[CV] END max_depth=15, max_features=5, min_samples_split=2, n_estimators=100; total time=   1.2s\n",
      "[CV] END max_depth=15, max_features=5, min_samples_split=2, n_estimators=100; total time=   1.0s\n",
      "[CV] END max_depth=5, max_features=7, min_samples_split=20, n_estimators=100; total time=   0.9s\n",
      "[CV] END max_depth=5, max_features=7, min_samples_split=20, n_estimators=100; total time=   0.8s\n",
      "[CV] END max_depth=5, max_features=7, min_samples_split=20, n_estimators=100; total time=   0.8s\n",
      "[CV] END max_depth=10, max_features=5, min_samples_split=15, n_estimators=1000; total time=   9.2s\n",
      "[CV] END max_depth=10, max_features=5, min_samples_split=15, n_estimators=1000; total time=   8.8s\n",
      "[CV] END max_depth=10, max_features=5, min_samples_split=15, n_estimators=1000; total time=   9.8s\n",
      "[CV] END max_depth=10, max_features=5, min_samples_split=2, n_estimators=1000; total time=  10.8s\n",
      "[CV] END max_depth=15, max_features=7, min_samples_split=15, n_estimators=500; total time=   5.4s\n",
      "[CV] END max_depth=10, max_features=5, min_samples_split=2, n_estimators=1000; total time=  10.2s\n",
      "[CV] END max_depth=10, max_features=5, min_samples_split=2, n_estimators=1000; total time=  10.3s\n",
      "[CV] END max_depth=5, max_features=auto, min_samples_split=2, n_estimators=100; total time=   0.0s\n",
      "[CV] END max_depth=5, max_features=auto, min_samples_split=2, n_estimators=100; total time=   0.0s\n",
      "[CV] END max_depth=5, max_features=auto, min_samples_split=2, n_estimators=100; total time=   0.0s\n",
      "[CV] END max_depth=15, max_features=7, min_samples_split=15, n_estimators=500; total time=   6.2s\n",
      "[CV] END max_depth=15, max_features=7, min_samples_split=15, n_estimators=500; total time=   6.4s\n",
      "[CV] END max_depth=15, max_features=auto, min_samples_split=8, n_estimators=1000; total time=   0.0s\n",
      "[CV] END max_depth=15, max_features=auto, min_samples_split=8, n_estimators=1000; total time=   0.0s\n",
      "[CV] END max_depth=15, max_features=auto, min_samples_split=8, n_estimators=1000; total time=   0.0s\n",
      "[CV] END max_depth=15, max_features=7, min_samples_split=8, n_estimators=200; total time=   2.8s\n",
      "[CV] END max_depth=None, max_features=7, min_samples_split=20, n_estimators=500; total time=   6.0s\n",
      "[CV] END max_depth=None, max_features=7, min_samples_split=20, n_estimators=500; total time=   6.1s\n",
      "[CV] END max_depth=None, max_features=7, min_samples_split=20, n_estimators=500; total time=   7.5s\n",
      "[CV] END max_depth=15, max_features=7, min_samples_split=8, n_estimators=200; total time=   2.5s\n",
      "[CV] END max_depth=8, max_features=7, min_samples_split=15, n_estimators=100; total time=   1.1s\n",
      "[CV] END max_depth=8, max_features=7, min_samples_split=15, n_estimators=100; total time=   1.2s\n",
      "[CV] END max_depth=8, max_features=7, min_samples_split=15, n_estimators=100; total time=   0.9s\n",
      "[CV] END max_depth=15, max_features=7, min_samples_split=8, n_estimators=200; total time=   2.9s\n",
      "[CV] END max_depth=8, max_features=auto, min_samples_split=8, n_estimators=500; total time=   0.0s\n",
      "[CV] END max_depth=8, max_features=auto, min_samples_split=8, n_estimators=500; total time=   0.0s\n",
      "[CV] END max_depth=8, max_features=auto, min_samples_split=8, n_estimators=500; total time=   0.0s\n",
      "[CV] END max_depth=None, max_features=5, min_samples_split=2, n_estimators=200; total time=   1.9s\n",
      "[CV] END max_depth=15, max_features=7, min_samples_split=15, n_estimators=100; total time=   1.3s\n",
      "[CV] END max_depth=15, max_features=7, min_samples_split=15, n_estimators=100; total time=   1.1s\n",
      "[CV] END max_depth=None, max_features=5, min_samples_split=2, n_estimators=200; total time=   2.5s\n",
      "[CV] END max_depth=None, max_features=5, min_samples_split=2, n_estimators=200; total time=   2.8s\n",
      "[CV] END max_depth=15, max_features=7, min_samples_split=15, n_estimators=100; total time=   1.4s\n",
      "[CV] END max_depth=None, max_features=auto, min_samples_split=15, n_estimators=500; total time=   0.0s\n",
      "[CV] END max_depth=None, max_features=auto, min_samples_split=15, n_estimators=500; total time=   0.0s\n",
      "[CV] END max_depth=None, max_features=auto, min_samples_split=15, n_estimators=500; total time=   0.0s\n",
      "[CV] END max_depth=10, max_features=auto, min_samples_split=15, n_estimators=100; total time=   0.0s\n",
      "[CV] END max_depth=10, max_features=auto, min_samples_split=15, n_estimators=100; total time=   0.0s\n",
      "[CV] END max_depth=10, max_features=auto, min_samples_split=15, n_estimators=100; total time=   0.0s\n",
      "[CV] END max_depth=8, max_features=7, min_samples_split=2, n_estimators=100; total time=   1.7s\n",
      "[CV] END max_depth=8, max_features=7, min_samples_split=2, n_estimators=100; total time=   1.5s\n",
      "[CV] END max_depth=8, max_features=7, min_samples_split=20, n_estimators=500; total time=   4.7s\n",
      "[CV] END max_depth=8, max_features=7, min_samples_split=2, n_estimators=100; total time=   1.3s\n",
      "[CV] END max_depth=8, max_features=7, min_samples_split=8, n_estimators=100; total time=   0.9s\n",
      "[CV] END max_depth=8, max_features=7, min_samples_split=8, n_estimators=100; total time=   0.9s\n",
      "[CV] END max_depth=8, max_features=7, min_samples_split=20, n_estimators=500; total time=   6.8s\n",
      "[CV] END max_depth=8, max_features=7, min_samples_split=8, n_estimators=100; total time=   1.8s\n",
      "[CV] END max_depth=5, max_features=8, min_samples_split=2, n_estimators=200; total time=   1.9s\n",
      "[CV] END max_depth=8, max_features=auto, min_samples_split=15, n_estimators=200; total time=   0.0s\n",
      "[CV] END max_depth=8, max_features=auto, min_samples_split=15, n_estimators=200; total time=   0.0s\n",
      "[CV] END max_depth=8, max_features=auto, min_samples_split=15, n_estimators=200; total time=   0.0s\n",
      "[CV] END max_depth=10, max_features=auto, min_samples_split=15, n_estimators=1000; total time=   0.0s\n",
      "[CV] END max_depth=10, max_features=auto, min_samples_split=15, n_estimators=1000; total time=   0.0s\n",
      "[CV] END max_depth=10, max_features=auto, min_samples_split=15, n_estimators=1000; total time=   0.0s\n",
      "[CV] END max_depth=8, max_features=7, min_samples_split=20, n_estimators=500; total time=   9.0s\n",
      "[CV] END max_depth=5, max_features=8, min_samples_split=2, n_estimators=200; total time=   2.5s\n",
      "[CV] END max_depth=5, max_features=8, min_samples_split=2, n_estimators=200; total time=   2.8s\n",
      "[CV] END max_depth=15, max_features=7, min_samples_split=2, n_estimators=100; total time=   2.1s\n",
      "[CV] END max_depth=15, max_features=7, min_samples_split=2, n_estimators=100; total time=   2.2s\n",
      "[CV] END max_depth=15, max_features=7, min_samples_split=2, n_estimators=100; total time=   4.6s\n",
      "[CV] END max_depth=None, max_features=5, min_samples_split=2, n_estimators=500; total time=   5.7s\n",
      "[CV] END max_depth=None, max_features=5, min_samples_split=2, n_estimators=500; total time=   7.4s\n",
      "[CV] END max_depth=None, max_features=5, min_samples_split=2, n_estimators=500; total time=   6.4s\n",
      "[CV] END max_depth=5, max_features=8, min_samples_split=20, n_estimators=200; total time=   2.1s\n",
      "[CV] END max_depth=5, max_features=8, min_samples_split=20, n_estimators=200; total time=   2.4s\n",
      "[CV] END max_depth=5, max_features=5, min_samples_split=20, n_estimators=1000; total time=  10.2s\n",
      "[CV] END max_depth=8, max_features=auto, min_samples_split=20, n_estimators=100; total time=   0.0s\n",
      "[CV] END max_depth=8, max_features=auto, min_samples_split=20, n_estimators=100; total time=   0.0s\n",
      "[CV] END max_depth=8, max_features=auto, min_samples_split=20, n_estimators=100; total time=   0.0s\n",
      "[CV] END max_depth=5, max_features=8, min_samples_split=20, n_estimators=200; total time=   1.6s\n",
      "[CV] END max_depth=5, max_features=5, min_samples_split=20, n_estimators=1000; total time=   8.6s\n",
      "[CV] END max_depth=5, max_features=5, min_samples_split=20, n_estimators=1000; total time=   9.4s\n",
      "[CV] END max_depth=5, max_features=8, min_samples_split=15, n_estimators=500; total time=   4.9s\n",
      "[CV] END max_depth=5, max_features=8, min_samples_split=15, n_estimators=500; total time=   4.1s\n",
      "[CV] END max_depth=5, max_features=8, min_samples_split=15, n_estimators=500; total time=   8.7s\n",
      "[CV] END max_depth=8, max_features=5, min_samples_split=20, n_estimators=200; total time=   1.8s\n",
      "[CV] END max_depth=8, max_features=5, min_samples_split=15, n_estimators=1000; total time=   8.8s\n",
      "[CV] END max_depth=8, max_features=5, min_samples_split=20, n_estimators=200; total time=   1.6s\n",
      "[CV] END max_depth=8, max_features=5, min_samples_split=20, n_estimators=200; total time=   1.5s\n",
      "[CV] END max_depth=8, max_features=8, min_samples_split=2, n_estimators=200; total time=   1.8s\n",
      "[CV] END max_depth=8, max_features=5, min_samples_split=15, n_estimators=1000; total time=   8.9s\n",
      "[CV] END max_depth=8, max_features=8, min_samples_split=2, n_estimators=200; total time=   2.4s\n",
      "[CV] END max_depth=8, max_features=5, min_samples_split=15, n_estimators=1000; total time=  10.3s\n",
      "[CV] END max_depth=8, max_features=8, min_samples_split=2, n_estimators=200; total time=   1.9s\n",
      "[CV] END max_depth=15, max_features=8, min_samples_split=15, n_estimators=100; total time=   1.1s\n",
      "[CV] END max_depth=15, max_features=8, min_samples_split=15, n_estimators=100; total time=   1.0s\n",
      "[CV] END max_depth=15, max_features=8, min_samples_split=15, n_estimators=100; total time=   1.0s\n",
      "[CV] END max_depth=None, max_features=8, min_samples_split=15, n_estimators=500; total time=   6.5s\n",
      "[CV] END max_depth=None, max_features=8, min_samples_split=15, n_estimators=500; total time=   6.0s\n",
      "[CV] END max_depth=10, max_features=7, min_samples_split=8, n_estimators=200; total time=   3.6s\n",
      "[CV] END max_depth=None, max_features=8, min_samples_split=15, n_estimators=500; total time=   7.8s\n",
      "[CV] END max_depth=10, max_features=7, min_samples_split=8, n_estimators=200; total time=   2.6s\n",
      "[CV] END max_depth=10, max_features=7, min_samples_split=8, n_estimators=200; total time=   2.8s\n",
      "[CV] END max_depth=8, max_features=5, min_samples_split=2, n_estimators=1000; total time=  10.9s\n",
      "[CV] END max_depth=8, max_features=5, min_samples_split=2, n_estimators=1000; total time=  10.2s\n",
      "[CV] END max_depth=8, max_features=5, min_samples_split=2, n_estimators=1000; total time=  10.8s\n",
      "[CV] END max_depth=10, max_features=7, min_samples_split=8, n_estimators=1000; total time=  11.3s\n",
      "[CV] END max_depth=8, max_features=5, min_samples_split=2, n_estimators=500; total time=   4.7s\n",
      "[CV] END max_depth=8, max_features=5, min_samples_split=2, n_estimators=500; total time=   5.0s\n",
      "[CV] END max_depth=8, max_features=8, min_samples_split=8, n_estimators=100; total time=   1.4s\n",
      "[CV] END max_depth=8, max_features=8, min_samples_split=8, n_estimators=100; total time=   1.0s\n",
      "[CV] END max_depth=8, max_features=8, min_samples_split=8, n_estimators=100; total time=   0.9s\n",
      "[CV] END max_depth=10, max_features=auto, min_samples_split=2, n_estimators=500; total time=   0.0s\n",
      "[CV] END max_depth=10, max_features=auto, min_samples_split=2, n_estimators=500; total time=   0.0s\n",
      "[CV] END max_depth=10, max_features=auto, min_samples_split=2, n_estimators=500; total time=   0.0s\n",
      "[CV] END max_depth=8, max_features=5, min_samples_split=2, n_estimators=500; total time=   5.4s\n",
      "[CV] END max_depth=10, max_features=7, min_samples_split=8, n_estimators=1000; total time=  11.0s\n",
      "[CV] END max_depth=10, max_features=7, min_samples_split=8, n_estimators=1000; total time=  12.4s\n",
      "[CV] END max_depth=15, max_features=8, min_samples_split=15, n_estimators=200; total time=   2.5s\n",
      "[CV] END max_depth=15, max_features=8, min_samples_split=15, n_estimators=200; total time=   2.9s\n",
      "[CV] END max_depth=15, max_features=8, min_samples_split=15, n_estimators=200; total time=   2.7s\n",
      "[CV] END max_depth=15, max_features=8, min_samples_split=2, n_estimators=200; total time=   3.5s\n",
      "[CV] END max_depth=8, max_features=7, min_samples_split=8, n_estimators=500; total time=   5.3s\n",
      "[CV] END max_depth=8, max_features=7, min_samples_split=8, n_estimators=500; total time=   6.0s\n",
      "[CV] END max_depth=5, max_features=auto, min_samples_split=8, n_estimators=1000; total time=   0.0s\n",
      "[CV] END max_depth=5, max_features=auto, min_samples_split=8, n_estimators=1000; total time=   0.0s\n",
      "[CV] END max_depth=5, max_features=auto, min_samples_split=8, n_estimators=1000; total time=   0.0s\n",
      "[CV] END max_depth=8, max_features=7, min_samples_split=8, n_estimators=500; total time=   5.8s\n",
      "[CV] END max_depth=15, max_features=8, min_samples_split=2, n_estimators=200; total time=   3.1s\n",
      "[CV] END max_depth=15, max_features=8, min_samples_split=2, n_estimators=200; total time=   3.0s\n",
      "[CV] END max_depth=5, max_features=8, min_samples_split=20, n_estimators=100; total time=   0.8s\n",
      "[CV] END max_depth=5, max_features=8, min_samples_split=20, n_estimators=100; total time=   1.1s\n",
      "[CV] END max_depth=5, max_features=5, min_samples_split=15, n_estimators=500; total time=   4.5s\n",
      "[CV] END max_depth=5, max_features=8, min_samples_split=20, n_estimators=100; total time=   1.5s\n",
      "[CV] END max_depth=5, max_features=5, min_samples_split=15, n_estimators=500; total time=   6.9s\n",
      "[CV] END max_depth=5, max_features=5, min_samples_split=15, n_estimators=500; total time=   5.4s\n",
      "[CV] END max_depth=8, max_features=7, min_samples_split=8, n_estimators=200; total time=   2.2s\n",
      "[CV] END max_depth=5, max_features=5, min_samples_split=8, n_estimators=200; total time=   1.7s\n",
      "[CV] END max_depth=8, max_features=7, min_samples_split=8, n_estimators=200; total time=   2.7s\n",
      "[CV] END max_depth=5, max_features=5, min_samples_split=8, n_estimators=200; total time=   1.6s\n",
      "[CV] END max_depth=8, max_features=7, min_samples_split=8, n_estimators=200; total time=   3.5s\n",
      "[CV] END max_depth=5, max_features=5, min_samples_split=8, n_estimators=200; total time=   1.6s\n",
      "[CV] END max_depth=None, max_features=5, min_samples_split=20, n_estimators=200; total time=   2.3s\n",
      "[CV] END max_depth=10, max_features=7, min_samples_split=20, n_estimators=100; total time=   0.9s\n",
      "[CV] END max_depth=None, max_features=5, min_samples_split=20, n_estimators=200; total time=   2.3s\n",
      "[CV] END max_depth=10, max_features=7, min_samples_split=20, n_estimators=100; total time=   0.9s\n",
      "[CV] END max_depth=10, max_features=7, min_samples_split=20, n_estimators=100; total time=   1.4s\n",
      "[CV] END max_depth=None, max_features=5, min_samples_split=20, n_estimators=200; total time=   2.7s\n",
      "[CV] END max_depth=15, max_features=8, min_samples_split=20, n_estimators=1000; total time=  12.1s\n",
      "[CV] END max_depth=15, max_features=8, min_samples_split=20, n_estimators=1000; total time=  12.3s\n",
      "[CV] END max_depth=15, max_features=8, min_samples_split=20, n_estimators=1000; total time=  13.0s\n",
      "[CV] END max_depth=None, max_features=5, min_samples_split=20, n_estimators=1000; total time=  17.2s\n",
      "[CV] END max_depth=8, max_features=7, min_samples_split=15, n_estimators=500; total time=   7.3s\n",
      "[CV] END max_depth=None, max_features=5, min_samples_split=20, n_estimators=1000; total time=  11.7s\n",
      "[CV] END max_depth=None, max_features=5, min_samples_split=20, n_estimators=1000; total time=  11.0s\n",
      "[CV] END max_depth=8, max_features=7, min_samples_split=15, n_estimators=500; total time=   5.6s\n",
      "[CV] END max_depth=8, max_features=7, min_samples_split=15, n_estimators=500; total time=   5.4s\n",
      "[CV] END max_depth=15, max_features=7, min_samples_split=2, n_estimators=1000; total time=  12.8s\n",
      "[CV] END max_depth=15, max_features=7, min_samples_split=2, n_estimators=1000; total time=  14.7s\n",
      "[CV] END max_depth=15, max_features=7, min_samples_split=2, n_estimators=1000; total time=  15.3s\n",
      "[CV] END max_depth=8, max_features=8, min_samples_split=20, n_estimators=1000; total time=  13.5s\n",
      "[CV] END max_depth=8, max_features=7, min_samples_split=8, n_estimators=1000; total time=  10.4s\n",
      "[CV] END max_depth=8, max_features=8, min_samples_split=20, n_estimators=1000; total time=  14.1s\n",
      "[CV] END max_depth=None, max_features=auto, min_samples_split=20, n_estimators=500; total time=   0.0s\n",
      "[CV] END max_depth=None, max_features=auto, min_samples_split=20, n_estimators=500; total time=   0.0s\n",
      "[CV] END max_depth=None, max_features=auto, min_samples_split=20, n_estimators=500; total time=   0.0s\n",
      "[CV] END max_depth=8, max_features=7, min_samples_split=8, n_estimators=1000; total time=  12.6s\n",
      "[CV] END max_depth=8, max_features=8, min_samples_split=20, n_estimators=1000; total time=  14.1s\n",
      "[CV] END max_depth=10, max_features=5, min_samples_split=2, n_estimators=500; total time=   6.0s\n",
      "[CV] END max_depth=10, max_features=5, min_samples_split=2, n_estimators=500; total time=   5.7s\n",
      "[CV] END max_depth=10, max_features=5, min_samples_split=2, n_estimators=500; total time=   9.3s\n",
      "[CV] END max_depth=8, max_features=7, min_samples_split=8, n_estimators=1000; total time=  10.9s\n",
      "[CV] END max_depth=5, max_features=8, min_samples_split=20, n_estimators=500; total time=   4.7s\n",
      "[CV] END max_depth=5, max_features=5, min_samples_split=15, n_estimators=100; total time=   0.7s\n",
      "[CV] END max_depth=5, max_features=5, min_samples_split=15, n_estimators=100; total time=   0.6s\n",
      "[CV] END max_depth=5, max_features=5, min_samples_split=15, n_estimators=100; total time=   0.7s\n",
      "[CV] END max_depth=5, max_features=8, min_samples_split=20, n_estimators=500; total time=   4.7s\n",
      "[CV] END max_depth=5, max_features=7, min_samples_split=15, n_estimators=100; total time=   0.8s\n",
      "[CV] END max_depth=5, max_features=7, min_samples_split=15, n_estimators=100; total time=   0.9s\n",
      "[CV] END max_depth=5, max_features=7, min_samples_split=15, n_estimators=100; total time=   0.8s\n",
      "[CV] END max_depth=5, max_features=8, min_samples_split=20, n_estimators=500; total time=   6.7s\n",
      "[CV] END max_depth=None, max_features=8, min_samples_split=20, n_estimators=1000; total time=  11.2s\n",
      "[CV] END max_depth=8, max_features=8, min_samples_split=2, n_estimators=500; total time=   8.2s\n",
      "[CV] END max_depth=None, max_features=8, min_samples_split=20, n_estimators=1000; total time=  11.7s\n",
      "[CV] END max_depth=None, max_features=8, min_samples_split=20, n_estimators=1000; total time=  12.0s\n",
      "[CV] END max_depth=None, max_features=8, min_samples_split=8, n_estimators=100; total time=   1.5s\n",
      "[CV] END max_depth=None, max_features=8, min_samples_split=8, n_estimators=100; total time=   1.3s\n",
      "[CV] END max_depth=None, max_features=8, min_samples_split=8, n_estimators=100; total time=   1.3s\n",
      "[CV] END max_depth=5, max_features=8, min_samples_split=8, n_estimators=200; total time=   2.2s\n",
      "[CV] END max_depth=5, max_features=8, min_samples_split=8, n_estimators=200; total time=   1.9s\n",
      "[CV] END max_depth=8, max_features=8, min_samples_split=2, n_estimators=500; total time=   5.4s\n",
      "[CV] END max_depth=5, max_features=8, min_samples_split=8, n_estimators=200; total time=   1.8s\n",
      "[CV] END max_depth=8, max_features=8, min_samples_split=2, n_estimators=500; total time=   8.9s\n",
      "[CV] END max_depth=5, max_features=8, min_samples_split=2, n_estimators=1000; total time=   9.7s\n",
      "[CV] END max_depth=5, max_features=8, min_samples_split=2, n_estimators=1000; total time=  10.2s\n",
      "[CV] END max_depth=5, max_features=8, min_samples_split=2, n_estimators=1000; total time=  10.0s\n",
      "[CV] END max_depth=15, max_features=auto, min_samples_split=20, n_estimators=500; total time=   0.0s\n",
      "[CV] END max_depth=15, max_features=auto, min_samples_split=20, n_estimators=500; total time=   0.0s\n",
      "[CV] END max_depth=15, max_features=auto, min_samples_split=20, n_estimators=500; total time=   0.0s\n",
      "[CV] END max_depth=15, max_features=5, min_samples_split=15, n_estimators=500; total time=   4.6s\n",
      "[CV] END max_depth=15, max_features=5, min_samples_split=15, n_estimators=500; total time=   4.7s\n",
      "[CV] END max_depth=15, max_features=8, min_samples_split=8, n_estimators=1000; total time=  13.2s\n",
      "[CV] END max_depth=15, max_features=8, min_samples_split=8, n_estimators=1000; total time=  12.9s\n",
      "[CV] END max_depth=15, max_features=8, min_samples_split=8, n_estimators=1000; total time=  19.6s\n",
      "[CV] END max_depth=15, max_features=5, min_samples_split=15, n_estimators=500; total time=   4.4s\n",
      "[CV] END max_depth=5, max_features=8, min_samples_split=15, n_estimators=200; total time=   2.1s\n",
      "[CV] END max_depth=5, max_features=8, min_samples_split=15, n_estimators=200; total time=   2.0s\n",
      "[CV] END max_depth=5, max_features=8, min_samples_split=15, n_estimators=200; total time=   2.2s\n",
      "[CV] END max_depth=15, max_features=8, min_samples_split=2, n_estimators=100; total time=   1.6s\n",
      "[CV] END max_depth=15, max_features=8, min_samples_split=2, n_estimators=100; total time=   1.5s\n",
      "[CV] END max_depth=15, max_features=8, min_samples_split=20, n_estimators=500; total time=   5.1s\n",
      "[CV] END max_depth=10, max_features=auto, min_samples_split=20, n_estimators=200; total time=   0.0s\n",
      "[CV] END max_depth=10, max_features=auto, min_samples_split=20, n_estimators=200; total time=   0.0s\n",
      "[CV] END max_depth=10, max_features=auto, min_samples_split=20, n_estimators=200; total time=   0.0s\n",
      "[CV] END max_depth=15, max_features=8, min_samples_split=20, n_estimators=500; total time=   5.3s\n",
      "[CV] END max_depth=15, max_features=8, min_samples_split=2, n_estimators=100; total time=   1.6s\n",
      "[CV] END max_depth=5, max_features=5, min_samples_split=15, n_estimators=200; total time=   1.4s\n",
      "[CV] END max_depth=15, max_features=8, min_samples_split=20, n_estimators=500; total time=   5.9s\n",
      "[CV] END max_depth=5, max_features=5, min_samples_split=15, n_estimators=200; total time=   1.7s\n",
      "[CV] END max_depth=5, max_features=5, min_samples_split=15, n_estimators=200; total time=   2.7s\n",
      "[CV] END max_depth=None, max_features=7, min_samples_split=20, n_estimators=1000; total time=  11.0s\n",
      "[CV] END max_depth=None, max_features=7, min_samples_split=20, n_estimators=1000; total time=  11.0s\n",
      "[CV] END max_depth=None, max_features=7, min_samples_split=20, n_estimators=1000; total time=  11.1s\n",
      "[CV] END max_depth=5, max_features=5, min_samples_split=15, n_estimators=1000; total time=   9.8s\n",
      "[CV] END max_depth=None, max_features=7, min_samples_split=20, n_estimators=200; total time=   1.9s\n",
      "[CV] END max_depth=None, max_features=7, min_samples_split=20, n_estimators=200; total time=   2.9s\n",
      "[CV] END max_depth=None, max_features=7, min_samples_split=20, n_estimators=200; total time=   1.9s\n",
      "[CV] END max_depth=15, max_features=5, min_samples_split=20, n_estimators=200; total time=   1.7s\n",
      "[CV] END max_depth=15, max_features=5, min_samples_split=20, n_estimators=200; total time=   2.2s\n",
      "[CV] END max_depth=10, max_features=auto, min_samples_split=15, n_estimators=200; total time=   0.0s\n",
      "[CV] END max_depth=10, max_features=auto, min_samples_split=15, n_estimators=200; total time=   0.0s\n",
      "[CV] END max_depth=10, max_features=auto, min_samples_split=15, n_estimators=200; total time=   0.0s\n",
      "[CV] END max_depth=5, max_features=5, min_samples_split=15, n_estimators=1000; total time=   6.7s\n",
      "[CV] END max_depth=5, max_features=5, min_samples_split=15, n_estimators=1000; total time=   6.8s\n",
      "[CV] END max_depth=15, max_features=5, min_samples_split=20, n_estimators=200; total time=   1.9s\n",
      "[CV] END max_depth=15, max_features=7, min_samples_split=20, n_estimators=500; total time=   4.7s\n",
      "[CV] END max_depth=15, max_features=7, min_samples_split=20, n_estimators=500; total time=   5.0s\n",
      "[CV] END max_depth=15, max_features=7, min_samples_split=20, n_estimators=500; total time=   6.6s\n",
      "[CV] END max_depth=15, max_features=8, min_samples_split=2, n_estimators=500; total time=   6.2s\n",
      "[CV] END max_depth=None, max_features=7, min_samples_split=8, n_estimators=200; total time=   2.6s\n",
      "[CV] END max_depth=None, max_features=7, min_samples_split=8, n_estimators=200; total time=   5.2s\n",
      "[CV] END max_depth=15, max_features=8, min_samples_split=2, n_estimators=500; total time=   7.2s\n",
      "[CV] END max_depth=None, max_features=7, min_samples_split=8, n_estimators=200; total time=   2.1s\n",
      "[CV] END max_depth=15, max_features=8, min_samples_split=2, n_estimators=500; total time=   7.0s\n",
      "[CV] END max_depth=None, max_features=8, min_samples_split=20, n_estimators=100; total time=   1.0s\n",
      "[CV] END max_depth=None, max_features=8, min_samples_split=20, n_estimators=100; total time=   1.7s\n",
      "[CV] END max_depth=None, max_features=8, min_samples_split=20, n_estimators=100; total time=   3.2s\n",
      "[CV] END max_depth=5, max_features=auto, min_samples_split=20, n_estimators=500; total time=   0.0s\n",
      "[CV] END max_depth=5, max_features=auto, min_samples_split=20, n_estimators=500; total time=   0.0s\n",
      "[CV] END max_depth=5, max_features=auto, min_samples_split=20, n_estimators=500; total time=   0.0s\n",
      "[CV] END max_depth=None, max_features=8, min_samples_split=8, n_estimators=1000; total time=  12.0s\n",
      "[CV] END max_depth=None, max_features=8, min_samples_split=8, n_estimators=1000; total time=  12.6s\n",
      "[CV] END max_depth=None, max_features=8, min_samples_split=8, n_estimators=1000; total time=  13.6s\n",
      "[CV] END max_depth=8, max_features=auto, min_samples_split=15, n_estimators=100; total time=   0.0s\n",
      "[CV] END max_depth=8, max_features=auto, min_samples_split=15, n_estimators=100; total time=   0.0s\n",
      "[CV] END max_depth=8, max_features=auto, min_samples_split=15, n_estimators=100; total time=   0.0s\n",
      "[CV] END max_depth=5, max_features=7, min_samples_split=15, n_estimators=500; total time=   4.2s\n",
      "[CV] END max_depth=8, max_features=7, min_samples_split=15, n_estimators=1000; total time=  10.6s\n",
      "[CV] END max_depth=5, max_features=7, min_samples_split=15, n_estimators=500; total time=   4.0s\n",
      "[CV] END max_depth=8, max_features=7, min_samples_split=15, n_estimators=1000; total time=  10.1s\n",
      "[CV] END max_depth=5, max_features=7, min_samples_split=15, n_estimators=500; total time=   4.5s\n",
      "[CV] END max_depth=8, max_features=7, min_samples_split=15, n_estimators=1000; total time=  25.2s\n",
      "[CV] END max_depth=None, max_features=5, min_samples_split=20, n_estimators=100; total time=   1.8s\n",
      "[CV] END max_depth=15, max_features=7, min_samples_split=2, n_estimators=500; total time=   6.1s\n",
      "[CV] END max_depth=15, max_features=7, min_samples_split=2, n_estimators=500; total time=   5.8s\n",
      "[CV] END max_depth=None, max_features=5, min_samples_split=20, n_estimators=100; total time=   0.8s\n",
      "[CV] END max_depth=None, max_features=5, min_samples_split=20, n_estimators=100; total time=   1.0s\n",
      "[CV] END max_depth=15, max_features=7, min_samples_split=2, n_estimators=500; total time=   5.6s\n",
      "[CV] END max_depth=10, max_features=5, min_samples_split=8, n_estimators=100; total time=   1.2s\n",
      "[CV] END max_depth=10, max_features=5, min_samples_split=8, n_estimators=100; total time=   1.0s\n",
      "[CV] END max_depth=15, max_features=7, min_samples_split=8, n_estimators=500; total time=   6.0s\n",
      "[CV] END max_depth=15, max_features=7, min_samples_split=8, n_estimators=500; total time=   5.5s\n",
      "[CV] END max_depth=10, max_features=5, min_samples_split=8, n_estimators=100; total time=   1.1s\n",
      "[CV] END max_depth=8, max_features=8, min_samples_split=2, n_estimators=1000; total time=  10.2s\n",
      "[CV] END max_depth=15, max_features=auto, min_samples_split=2, n_estimators=100; total time=   0.0s\n",
      "[CV] END max_depth=15, max_features=auto, min_samples_split=2, n_estimators=100; total time=   0.0s\n",
      "[CV] END max_depth=15, max_features=auto, min_samples_split=2, n_estimators=100; total time=   0.0s\n",
      "[CV] END max_depth=8, max_features=8, min_samples_split=2, n_estimators=1000; total time=  10.3s\n",
      "[CV] END max_depth=8, max_features=8, min_samples_split=2, n_estimators=1000; total time=  12.0s\n",
      "[CV] END max_depth=None, max_features=7, min_samples_split=15, n_estimators=200; total time=   2.0s\n",
      "[CV] END max_depth=15, max_features=7, min_samples_split=8, n_estimators=500; total time=  18.1s\n",
      "[CV] END max_depth=None, max_features=7, min_samples_split=15, n_estimators=200; total time=   2.2s\n",
      "[CV] END max_depth=None, max_features=7, min_samples_split=15, n_estimators=200; total time=   2.2s\n",
      "[CV] END max_depth=5, max_features=auto, min_samples_split=20, n_estimators=100; total time=   0.0s\n",
      "[CV] END max_depth=5, max_features=auto, min_samples_split=20, n_estimators=100; total time=   0.0s\n",
      "[CV] END max_depth=5, max_features=auto, min_samples_split=20, n_estimators=100; total time=   0.0s\n",
      "[CV] END max_depth=5, max_features=8, min_samples_split=20, n_estimators=1000; total time=   5.9s\n",
      "[CV] END max_depth=5, max_features=8, min_samples_split=20, n_estimators=1000; total time=   6.6s\n",
      "[CV] END max_depth=5, max_features=8, min_samples_split=20, n_estimators=1000; total time=   6.2s\n",
      "Fitting 3 folds for each of 10 candidates, totalling 30 fits\n",
      "[CV] END ...................algorithm=SAMME, n_estimators=50; total time=   0.4s\n",
      "[CV] END ...................algorithm=SAMME, n_estimators=50; total time=   0.4s\n",
      "[CV] END ...................algorithm=SAMME, n_estimators=50; total time=   0.5s\n",
      "[CV] END ...................algorithm=SAMME, n_estimators=60; total time=   0.6s\n",
      "[CV] END ...................algorithm=SAMME, n_estimators=60; total time=   0.7s\n",
      "[CV] END ...................algorithm=SAMME, n_estimators=70; total time=   0.8s\n",
      "[CV] END ...................algorithm=SAMME, n_estimators=60; total time=   0.8s\n",
      "[CV] END ...................algorithm=SAMME, n_estimators=70; total time=   0.7s\n",
      "[CV] END ...................algorithm=SAMME, n_estimators=70; total time=   0.6s\n",
      "[CV] END ...................algorithm=SAMME, n_estimators=80; total time=   0.8s\n",
      "[CV] END ...................algorithm=SAMME, n_estimators=80; total time=   0.8s\n",
      "[CV] END ...................algorithm=SAMME, n_estimators=80; total time=   1.0s\n"
     ]
    },
    {
     "name": "stderr",
     "output_type": "stream",
     "text": [
      "/home/manju/projects/my_env/lib/python3.10/site-packages/sklearn/ensemble/_weight_boosting.py:519: FutureWarning: The SAMME.R algorithm (the default) is deprecated and will be removed in 1.6. Use the SAMME algorithm to circumvent this warning.\n",
      "  warnings.warn(\n"
     ]
    },
    {
     "name": "stdout",
     "output_type": "stream",
     "text": [
      "[CV] END ...................algorithm=SAMME, n_estimators=90; total time=   0.8s\n"
     ]
    },
    {
     "name": "stderr",
     "output_type": "stream",
     "text": [
      "/home/manju/projects/my_env/lib/python3.10/site-packages/sklearn/ensemble/_weight_boosting.py:519: FutureWarning: The SAMME.R algorithm (the default) is deprecated and will be removed in 1.6. Use the SAMME algorithm to circumvent this warning.\n",
      "  warnings.warn(\n"
     ]
    },
    {
     "name": "stdout",
     "output_type": "stream",
     "text": [
      "[CV] END ...................algorithm=SAMME, n_estimators=90; total time=   0.9s\n",
      "[CV] END ...................algorithm=SAMME, n_estimators=90; total time=   0.9s\n",
      "[CV] END .................algorithm=SAMME.R, n_estimators=50; total time=   0.5s\n",
      "[CV] END .................algorithm=SAMME.R, n_estimators=50; total time=   0.8s\n"
     ]
    },
    {
     "name": "stderr",
     "output_type": "stream",
     "text": [
      "/home/manju/projects/my_env/lib/python3.10/site-packages/sklearn/ensemble/_weight_boosting.py:519: FutureWarning: The SAMME.R algorithm (the default) is deprecated and will be removed in 1.6. Use the SAMME algorithm to circumvent this warning.\n",
      "  warnings.warn(\n",
      "/home/manju/projects/my_env/lib/python3.10/site-packages/sklearn/ensemble/_weight_boosting.py:519: FutureWarning: The SAMME.R algorithm (the default) is deprecated and will be removed in 1.6. Use the SAMME algorithm to circumvent this warning.\n",
      "  warnings.warn(\n",
      "/home/manju/projects/my_env/lib/python3.10/site-packages/sklearn/ensemble/_weight_boosting.py:519: FutureWarning: The SAMME.R algorithm (the default) is deprecated and will be removed in 1.6. Use the SAMME algorithm to circumvent this warning.\n",
      "  warnings.warn(\n",
      "/home/manju/projects/my_env/lib/python3.10/site-packages/sklearn/ensemble/_weight_boosting.py:519: FutureWarning: The SAMME.R algorithm (the default) is deprecated and will be removed in 1.6. Use the SAMME algorithm to circumvent this warning.\n",
      "  warnings.warn(\n"
     ]
    },
    {
     "name": "stdout",
     "output_type": "stream",
     "text": [
      "[CV] END .................algorithm=SAMME.R, n_estimators=50; total time=   0.5s\n",
      "[CV] END .................algorithm=SAMME.R, n_estimators=60; total time=   0.6s\n"
     ]
    },
    {
     "name": "stderr",
     "output_type": "stream",
     "text": [
      "/home/manju/projects/my_env/lib/python3.10/site-packages/sklearn/ensemble/_weight_boosting.py:519: FutureWarning: The SAMME.R algorithm (the default) is deprecated and will be removed in 1.6. Use the SAMME algorithm to circumvent this warning.\n",
      "  warnings.warn(\n",
      "/home/manju/projects/my_env/lib/python3.10/site-packages/sklearn/ensemble/_weight_boosting.py:519: FutureWarning: The SAMME.R algorithm (the default) is deprecated and will be removed in 1.6. Use the SAMME algorithm to circumvent this warning.\n",
      "  warnings.warn(\n"
     ]
    },
    {
     "name": "stdout",
     "output_type": "stream",
     "text": [
      "[CV] END .................algorithm=SAMME.R, n_estimators=60; total time=   0.6s\n"
     ]
    },
    {
     "name": "stderr",
     "output_type": "stream",
     "text": [
      "/home/manju/projects/my_env/lib/python3.10/site-packages/sklearn/ensemble/_weight_boosting.py:519: FutureWarning: The SAMME.R algorithm (the default) is deprecated and will be removed in 1.6. Use the SAMME algorithm to circumvent this warning.\n",
      "  warnings.warn(\n"
     ]
    },
    {
     "name": "stdout",
     "output_type": "stream",
     "text": [
      "[CV] END .................algorithm=SAMME.R, n_estimators=70; total time=   0.6s\n",
      "[CV] END .................algorithm=SAMME.R, n_estimators=60; total time=   0.9s\n"
     ]
    },
    {
     "name": "stderr",
     "output_type": "stream",
     "text": [
      "/home/manju/projects/my_env/lib/python3.10/site-packages/sklearn/ensemble/_weight_boosting.py:519: FutureWarning: The SAMME.R algorithm (the default) is deprecated and will be removed in 1.6. Use the SAMME algorithm to circumvent this warning.\n",
      "  warnings.warn(\n",
      "/home/manju/projects/my_env/lib/python3.10/site-packages/sklearn/ensemble/_weight_boosting.py:519: FutureWarning: The SAMME.R algorithm (the default) is deprecated and will be removed in 1.6. Use the SAMME algorithm to circumvent this warning.\n",
      "  warnings.warn(\n",
      "/home/manju/projects/my_env/lib/python3.10/site-packages/sklearn/ensemble/_weight_boosting.py:519: FutureWarning: The SAMME.R algorithm (the default) is deprecated and will be removed in 1.6. Use the SAMME algorithm to circumvent this warning.\n",
      "  warnings.warn(\n"
     ]
    },
    {
     "name": "stdout",
     "output_type": "stream",
     "text": [
      "[CV] END .................algorithm=SAMME.R, n_estimators=70; total time=   0.7s\n",
      "[CV] END .................algorithm=SAMME.R, n_estimators=70; total time=   0.7s\n"
     ]
    },
    {
     "name": "stderr",
     "output_type": "stream",
     "text": [
      "/home/manju/projects/my_env/lib/python3.10/site-packages/sklearn/ensemble/_weight_boosting.py:519: FutureWarning: The SAMME.R algorithm (the default) is deprecated and will be removed in 1.6. Use the SAMME algorithm to circumvent this warning.\n",
      "  warnings.warn(\n"
     ]
    },
    {
     "name": "stdout",
     "output_type": "stream",
     "text": [
      "[CV] END .................algorithm=SAMME.R, n_estimators=80; total time=   0.8s\n",
      "[CV] END .................algorithm=SAMME.R, n_estimators=80; total time=   0.8s\n"
     ]
    },
    {
     "name": "stderr",
     "output_type": "stream",
     "text": [
      "/home/manju/projects/my_env/lib/python3.10/site-packages/sklearn/ensemble/_weight_boosting.py:519: FutureWarning: The SAMME.R algorithm (the default) is deprecated and will be removed in 1.6. Use the SAMME algorithm to circumvent this warning.\n",
      "  warnings.warn(\n",
      "/home/manju/projects/my_env/lib/python3.10/site-packages/sklearn/ensemble/_weight_boosting.py:519: FutureWarning: The SAMME.R algorithm (the default) is deprecated and will be removed in 1.6. Use the SAMME algorithm to circumvent this warning.\n",
      "  warnings.warn(\n"
     ]
    },
    {
     "name": "stdout",
     "output_type": "stream",
     "text": [
      "[CV] END .................algorithm=SAMME.R, n_estimators=80; total time=   1.1s\n",
      "[CV] END .................algorithm=SAMME.R, n_estimators=90; total time=   0.9s\n",
      "[CV] END .................algorithm=SAMME.R, n_estimators=90; total time=   0.7s\n",
      "[CV] END .................algorithm=SAMME.R, n_estimators=90; total time=   0.7s\n",
      "--------Best params for RF\n",
      "{'n_estimators': 200, 'min_samples_split': 2, 'max_features': 8, 'max_depth': 15}\n",
      "--------Best params for AB\n",
      "{'n_estimators': 60, 'algorithm': 'SAMME'}\n"
     ]
    }
   ],
   "source": [
    "from sklearn.model_selection import RandomizedSearchCV\n",
    "\n",
    "model_param = {}\n",
    "for name, model , param in randomcv_models:\n",
    "    random = RandomizedSearchCV(estimator=model,\n",
    "                                param_distributions=param,\n",
    "                                n_iter=100,\n",
    "                                cv=3,\n",
    "                                verbose=2,\n",
    "                                n_jobs=-1)\n",
    "    random.fit(Xtrain, ytrain)\n",
    "    model_param[name] = random.best_params_\n",
    "\n",
    "for model_name in model_param:\n",
    "    print(f'--------Best params for {model_name}')\n",
    "    print(model_param[model_name])"
   ]
  },
  {
   "cell_type": "code",
   "execution_count": 114,
   "metadata": {},
   "outputs": [
    {
     "name": "stdout",
     "output_type": "stream",
     "text": [
      "Random Forest\n",
      "Training Set Performance:\n",
      "Accuracy: 0.9992\n",
      "Precision: 1.0000\n",
      "Recall: 0.9957\n",
      "F1 Score: 0.9992\n",
      "ROC AUC Score: 0.9978\n",
      "\n",
      "\n",
      "Test Set Performance:\n",
      "Accuracy: 0.9313\n",
      "Precision: 0.9427\n",
      "Recall: 0.6637\n",
      "F1 Score: 0.9264\n",
      "ROC AUC Score: 0.8273\n",
      "===================================\n",
      "Adaboost\n",
      "Training Set Performance:\n",
      "Accuracy: 0.8475\n",
      "Precision: 0.7828\n",
      "Recall: 0.2740\n",
      "F1 Score: 0.8162\n",
      "ROC AUC Score: 0.6281\n",
      "\n",
      "\n",
      "Test Set Performance:\n",
      "Accuracy: 0.8462\n",
      "Precision: 0.7108\n",
      "Recall: 0.2646\n",
      "F1 Score: 0.8160\n",
      "ROC AUC Score: 0.6203\n",
      "===================================\n"
     ]
    }
   ],
   "source": [
    "#use best parameters\n",
    "models = {\n",
    "    \"Random Forest\": RandomForestClassifier(n_estimators=200, max_depth=15, min_samples_split=2, max_features=8),\n",
    "    'Adaboost': AdaBoostClassifier(n_estimators=60, algorithm='SAMME')\n",
    "}\n",
    "\n",
    "for i in range(len(list(models))):\n",
    "    model = list(models.values())[i]\n",
    "    model.fit(Xtrain, ytrain)\n",
    "\n",
    "    #make predictions\n",
    "    ytrain_pred = model.predict(Xtrain)\n",
    "    ytest_pred = model.predict(Xtest)\n",
    "\n",
    "    #Training set performance\n",
    "    train_accuracy = accuracy_score(ytrain, ytrain_pred)\n",
    "    train_precision = precision_score(ytrain, ytrain_pred)\n",
    "    train_recall = recall_score(ytrain, ytrain_pred)\n",
    "    train_f1 = f1_score(ytrain, ytrain_pred, average='weighted')\n",
    "    train_roc_auc_score = roc_auc_score(ytrain, ytrain_pred)\n",
    "\n",
    "    #Test set performance\n",
    "    test_accuracy = accuracy_score(ytest, ytest_pred)\n",
    "    test_precision = precision_score(ytest, ytest_pred)\n",
    "    test_recall = recall_score(ytest, ytest_pred)\n",
    "    test_f1 = f1_score(ytest, ytest_pred, average='weighted')\n",
    "    test_roc_auc_score = roc_auc_score(ytest, ytest_pred)\n",
    "\n",
    "    print(list(models.keys())[i])\n",
    "    # Training set performance\n",
    "    print(\"Training Set Performance:\")\n",
    "    print(f\"Accuracy: {train_accuracy:.4f}\")\n",
    "    print(f\"Precision: {train_precision:.4f}\")\n",
    "    print(f\"Recall: {train_recall:.4f}\")\n",
    "    print(f\"F1 Score: {train_f1:.4f}\")\n",
    "    print(f\"ROC AUC Score: {train_roc_auc_score:.4f}\")\n",
    "    print(\"\\n\")  \n",
    "    # Test set performance\n",
    "    print(\"Test Set Performance:\")\n",
    "    print(f\"Accuracy: {test_accuracy:.4f}\")\n",
    "    print(f\"Precision: {test_precision:.4f}\")\n",
    "    print(f\"Recall: {test_recall:.4f}\")\n",
    "    print(f\"F1 Score: {test_f1:.4f}\")\n",
    "    print(f\"ROC AUC Score: {test_roc_auc_score:.4f}\")\n",
    "\n",
    "    print('='*35)\n",
    "\n",
    "\n",
    "    "
   ]
  },
  {
   "cell_type": "code",
   "execution_count": 115,
   "metadata": {},
   "outputs": [
    {
     "data": {
      "image/png": "[encoded data removed]",
      "text/plain": [
       "<Figure size 800x600 with 1 Axes>"
      ]
     },
     "metadata": {},
     "output_type": "display_data"
    },
    {
     "data": {
      "image/png": "[encoded data removed]",
      "text/plain": [
       "<Figure size 640x480 with 1 Axes>"
      ]
     },
     "metadata": {},
     "output_type": "display_data"
    }
   ],
   "source": [
    "#pot ROC UC Curve\n",
    "from sklearn.metrics import roc_curve, auc\n",
    "plt.figure(figsize=(8, 6))\n",
    "\n",
    "auc_models = [\n",
    "    {\n",
    "        'label': 'Random Forest Classifier',\n",
    "        \"model\": RandomForestClassifier(n_estimators=1000, max_depth=None, min_samples_split=2, max_features=7),\n",
    "        'auc': 0.8390\n",
    "    },\n",
    "        {\n",
    "        'label': 'Adaboost Classifier',\n",
    "        \"model\": AdaBoostClassifier(n_estimators=80, algorithm='SAMME'),\n",
    "        'auc': 0.6049\n",
    "    }\n",
    "]\n",
    "\n",
    "for alg in auc_models:\n",
    "    model = alg['model']\n",
    "    model.fit(Xtrain, ytrain)\n",
    "    ypred = model.predict_proba(Xtest)[:,1]\n",
    "\n",
    "    #Compute fpr ,tpr\n",
    "    fpr, tpr, thresholds = roc_curve(ytest, ypred)\n",
    "    roc_auc = auc(fpr, tpr)\n",
    "\n",
    "    # Plot ROC curve\n",
    "    #plt.figure(figsize=(8, 6))\n",
    "    plt.plot(fpr, tpr, color='b', lw=2, label=f'ROC curve (AUC = {roc_auc:.4f})')\n",
    "    plt.plot([0, 1], [0, 1], 'r--')  # Random classifier line\n",
    "    plt.xlabel('False Positive Rate (FPR)')\n",
    "    plt.ylabel('True Positive Rate (TPR)')\n",
    "    plt.title('Receiver Operating Characteristic (ROC) Curve')\n",
    "    plt.legend(loc='lower right')\n",
    "    plt.show()"
   ]
  },
  {
   "cell_type": "code",
   "execution_count": null,
   "metadata": {},
   "outputs": [],
   "source": []
  },
  {
   "cell_type": "code",
   "execution_count": null,
   "metadata": {},
   "outputs": [],
   "source": []
  }
 ],
 "metadata": {
  "kernelspec": {
   "display_name": "my_env",
   "language": "python",
   "name": "python3"
  },
  "language_info": {
   "codemirror_mode": {
    "name": "ipython",
    "version": 3
   },
   "file_extension": ".py",
   "mimetype": "text/x-python",
   "name": "python",
   "nbconvert_exporter": "python",
   "pygments_lexer": "ipython3",
   "version": "3.10.12"
  }
 },
 "nbformat": 4,
 "nbformat_minor": 2
}
